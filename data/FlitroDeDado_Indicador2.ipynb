{
 "cells": [
  {
   "cell_type": "markdown",
   "id": "be8137c3",
   "metadata": {},
   "source": [
    "### 2- Top 5 países produtores de conteúdos considerando todos os dados e comparando as duas plataformas;"
   ]
  },
  {
   "cell_type": "code",
   "execution_count": 26,
   "id": "e838b113",
   "metadata": {},
   "outputs": [
    {
     "data": {
      "text/plain": [
       "Top Country General Producers\n",
       "United States                    4023\n",
       "India                            1292\n",
       "United Kingdom                    871\n",
       "Canada                            480\n",
       "France                            413\n",
       "dtype: int64"
      ]
     },
     "execution_count": 26,
     "metadata": {},
     "output_type": "execute_result"
    }
   ],
   "source": [
    "import pandas as pd\n",
    "\n",
    "amazon_titles = pd.read_csv(\"amazon_prime_titles.csv\", sep = \",\")\n",
    "netflix_titles = pd.read_csv(\"netflix_titles.csv\", sep = \",\")\n",
    "\n",
    "all_titles = pd.merge(amazon_titles, netflix_titles, how = 'outer')\n",
    "all_titles.columns.values\n",
    "selects_columns = ['country']\n",
    "countrys = all_titles.filter(items=selects_columns)\n",
    "cut_country = countrys['country'].str.split(', ', expand=True)\n",
    "cut_country.isnull().sum()\n",
    "emp = cut_country.stack(dropna=True)\n",
    "\n",
    "data = pd.DataFrame(emp)\n",
    "data = data.rename(columns={0:'Top Country General Producers'})\n",
    "final_data_general = data.value_counts()\n",
    "final_data_general[:5]\n"
   ]
  },
  {
   "cell_type": "code",
   "execution_count": 27,
   "id": "a2c9eb16",
   "metadata": {},
   "outputs": [
    {
     "data": {
      "text/plain": [
       "Top Country General Producers Amazon\n",
       "United States                           334\n",
       "India                                   246\n",
       "United Kingdom                           67\n",
       "Canada                                   35\n",
       "France                                   20\n",
       "dtype: int64"
      ]
     },
     "execution_count": 27,
     "metadata": {},
     "output_type": "execute_result"
    }
   ],
   "source": [
    "amazon_titles.columns.values\n",
    "selects_columns = ['country']\n",
    "countrys = amazon_titles.filter(items=selects_columns)\n",
    "cut_country = countrys['country'].str.split(', ', expand=True)\n",
    "cut_country.isnull().sum()\n",
    "emp = cut_country.stack(dropna=True)\n",
    "\n",
    "data = pd.DataFrame(emp)\n",
    "data = data.rename(columns={0:'Top Country General Producers Amazon'})\n",
    "final_data_amazon = data.value_counts()\n",
    "final_data_amazon[:5]"
   ]
  },
  {
   "cell_type": "code",
   "execution_count": 28,
   "id": "73979878",
   "metadata": {},
   "outputs": [
    {
     "data": {
      "text/plain": [
       "Top Country General Producers Netflix\n",
       "United States                            3689\n",
       "India                                    1046\n",
       "United Kingdom                            804\n",
       "Canada                                    445\n",
       "France                                    393\n",
       "dtype: int64"
      ]
     },
     "execution_count": 28,
     "metadata": {},
     "output_type": "execute_result"
    }
   ],
   "source": [
    "netflix_titles.columns.values\n",
    "selects_columns = ['country']\n",
    "countrys = netflix_titles.filter(items=selects_columns)\n",
    "cut_country = countrys['country'].str.split(', ', expand=True)\n",
    "cut_country.isnull().sum()\n",
    "emp = cut_country.stack(dropna=True)\n",
    "\n",
    "data = pd.DataFrame(emp)\n",
    "data = data.rename(columns={0:'Top Country General Producers Netflix'})\n",
    "final_data_netflix = data.value_counts()\n",
    "final_data_netflix[:5]"
   ]
  }
 ],
 "metadata": {
  "kernelspec": {
   "display_name": "Python 3 (ipykernel)",
   "language": "python",
   "name": "python3"
  },
  "language_info": {
   "codemirror_mode": {
    "name": "ipython",
    "version": 3
   },
   "file_extension": ".py",
   "mimetype": "text/x-python",
   "name": "python",
   "nbconvert_exporter": "python",
   "pygments_lexer": "ipython3",
   "version": "3.9.7"
  }
 },
 "nbformat": 4,
 "nbformat_minor": 5
}
