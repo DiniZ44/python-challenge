{
 "cells": [
  {
   "cell_type": "markdown",
   "id": "be8137c3",
   "metadata": {},
   "source": [
    "### 1- Top 10 atores/atrizes considerando todos os dados;"
   ]
  },
  {
   "cell_type": "code",
   "execution_count": 1,
   "id": "320702b6",
   "metadata": {},
   "outputs": [
    {
     "data": {
      "text/plain": [
       "Top 10 Casts General\n",
       "Anupam Kher             59\n",
       "Maggie Binkley          56\n",
       "Amitabh Bachchan        47\n",
       "Shah Rukh Khan          46\n",
       "Nassar                  43\n",
       "Akshay Kumar            41\n",
       "Paresh Rawal            39\n",
       "Naseeruddin Shah        39\n",
       "Danny Trejo             39\n",
       "Om Puri                 35\n",
       "dtype: int64"
      ]
     },
     "execution_count": 1,
     "metadata": {},
     "output_type": "execute_result"
    }
   ],
   "source": [
    "import pandas as pd\n",
    "\n",
    "amazon_titles = pd.read_csv(\"amazon_prime_titles.csv\", sep = \",\")\n",
    "netflix_titles = pd.read_csv(\"netflix_titles.csv\", sep = \",\")\n",
    "\n",
    "all_titles = pd.merge(amazon_titles, netflix_titles, how = 'outer')\n",
    "\n",
    "all_titles.columns.values \n",
    "selects_columns = ['cast']\n",
    "casts = all_titles.filter(items=selects_columns)\n",
    "cut_cast = casts['cast'].str.split(', ', expand=True)\n",
    "cut_cast.isnull().sum()\n",
    "emp =cut_cast.stack(dropna=True)\n",
    "data = pd.DataFrame(emp)\n",
    "data = data.drop([1])\n",
    "data = data.rename(columns={0:'Top 10 Casts General'})\n",
    "ord_casts = data.value_counts()\n",
    "ord_casts[:10]\n"
   ]
  }
 ],
 "metadata": {
  "kernelspec": {
   "display_name": "Python 3 (ipykernel)",
   "language": "python",
   "name": "python3"
  },
  "language_info": {
   "codemirror_mode": {
    "name": "ipython",
    "version": 3
   },
   "file_extension": ".py",
   "mimetype": "text/x-python",
   "name": "python",
   "nbconvert_exporter": "python",
   "pygments_lexer": "ipython3",
   "version": "3.9.7"
  }
 },
 "nbformat": 4,
 "nbformat_minor": 5
}
