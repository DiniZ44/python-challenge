{
 "cells": [
  {
   "cell_type": "markdown",
   "id": "be8137c3",
   "metadata": {},
   "source": [
    "### 4- Quantidade de filmes listados como comédia."
   ]
  },
  {
   "cell_type": "code",
   "execution_count": 1,
   "id": "af4eeb32",
   "metadata": {},
   "outputs": [
    {
     "name": "stdout",
     "output_type": "stream",
     "text": [
      "Quantity Movies listed in Comedy\n"
     ]
    },
    {
     "data": {
      "text/plain": [
       "3495"
      ]
     },
     "execution_count": 1,
     "metadata": {},
     "output_type": "execute_result"
    }
   ],
   "source": [
    "import pandas as pd\n",
    "\n",
    "amazon_titles = pd.read_csv(\"amazon_prime_titles.csv\", sep = \",\")\n",
    "netflix_titles = pd.read_csv(\"netflix_titles.csv\", sep = \",\")\n",
    "\n",
    "all_titles = pd.merge(amazon_titles, netflix_titles, how = 'outer')\n",
    "all_titles.columns.values \n",
    "selects_columns = ['type','listed_in']\n",
    "listed = all_titles.filter(items=selects_columns)\n",
    "listed = listed.loc[listed['type'] == 'Movie']\n",
    "cut_listed = listed['listed_in'].str.split(', ', expand=True)\n",
    "cut_listed.isnull().sum()\n",
    "emp = cut_listed.stack(dropna=True)\n",
    "data = pd.DataFrame(emp)\n",
    "final_data = data.value_counts()\n",
    "\n",
    "new_data = final_data[3:5].sum()\n",
    "print('Quantity Movies listed in Comedy')\n",
    "new_data\n"
   ]
  },
  {
   "cell_type": "code",
   "execution_count": null,
   "id": "bb035f3f",
   "metadata": {},
   "outputs": [],
   "source": []
  }
 ],
 "metadata": {
  "kernelspec": {
   "display_name": "Python 3 (ipykernel)",
   "language": "python",
   "name": "python3"
  },
  "language_info": {
   "codemirror_mode": {
    "name": "ipython",
    "version": 3
   },
   "file_extension": ".py",
   "mimetype": "text/x-python",
   "name": "python",
   "nbconvert_exporter": "python",
   "pygments_lexer": "ipython3",
   "version": "3.7.0"
  }
 },
 "nbformat": 4,
 "nbformat_minor": 5
}
