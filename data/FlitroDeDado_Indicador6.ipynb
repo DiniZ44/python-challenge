{
 "cells": [
  {
   "cell_type": "markdown",
   "id": "be8137c3",
   "metadata": {},
   "source": [
    "### 6- Frequência em relação a duração de \"TV Show\" de todos os dados e comparativamente em relação as duas plataformas"
   ]
  },
  {
   "cell_type": "code",
   "execution_count": 28,
   "id": "90275079",
   "metadata": {},
   "outputs": [
    {
     "name": "stdout",
     "output_type": "stream",
     "text": [
      "Frequence duration the TV Show in all data\n"
     ]
    },
    {
     "data": {
      "text/plain": [
       "type     duration  \n",
       "TV Show  1 Season      3135\n",
       "         2 Seasons      654\n",
       "         3 Seasons      309\n",
       "         4 Seasons      157\n",
       "         5 Seasons      104\n",
       "         6 Seasons       56\n",
       "         7 Seasons       38\n",
       "         8 Seasons       27\n",
       "         9 Seasons       15\n",
       "         10 Seasons      12\n",
       "         11 Seasons       5\n",
       "         12 Seasons       5\n",
       "         15 Seasons       3\n",
       "         14 Seasons       3\n",
       "         13 Seasons       3\n",
       "         29 Seasons       1\n",
       "         19 Seasons       1\n",
       "         17 Seasons       1\n",
       "         21 Seasons       1\n",
       "dtype: int64"
      ]
     },
     "execution_count": 28,
     "metadata": {},
     "output_type": "execute_result"
    }
   ],
   "source": [
    "import pandas as pd\n",
    "\n",
    "amazon_titles = pd.read_csv(\"amazon_prime_titles.csv\", sep = \",\")\n",
    "netflix_titles = pd.read_csv(\"netflix_titles.csv\", sep = \",\")\n",
    "\n",
    "all_titles = pd.merge(amazon_titles, netflix_titles, how = 'outer')\n",
    "all_titles.columns.values \n",
    "selects_columns = ['type', 'duration']\n",
    "duration = all_titles.filter(items=selects_columns)\n",
    "duration = duration.loc[duration['type'] == 'TV Show']\n",
    "duration.isnull().sum()\n",
    "freq = duration.value_counts()\n",
    "print('Frequence duration the TV Show in all data')\n",
    "freq"
   ]
  },
  {
   "cell_type": "code",
   "execution_count": 26,
   "id": "d6c5b8dd",
   "metadata": {},
   "outputs": [
    {
     "name": "stdout",
     "output_type": "stream",
     "text": [
      "Frequence duration in TV Show in Amazon Titles\n"
     ]
    },
    {
     "data": {
      "text/plain": [
       "type     duration  \n",
       "TV Show  1 Season      1342\n",
       "         2 Seasons      229\n",
       "         3 Seasons      110\n",
       "         4 Seasons       62\n",
       "         5 Seasons       39\n",
       "         6 Seasons       23\n",
       "         7 Seasons       15\n",
       "         8 Seasons       10\n",
       "         9 Seasons        6\n",
       "         10 Seasons       5\n",
       "         14 Seasons       3\n",
       "         12 Seasons       3\n",
       "         11 Seasons       3\n",
       "         29 Seasons       1\n",
       "         19 Seasons       1\n",
       "         15 Seasons       1\n",
       "         21 Seasons       1\n",
       "dtype: int64"
      ]
     },
     "execution_count": 26,
     "metadata": {},
     "output_type": "execute_result"
    }
   ],
   "source": [
    "duration = amazon_titles.filter(items=selects_columns)\n",
    "duration = duration.loc[duration['type'] == 'TV Show']\n",
    "duration.isnull().sum()\n",
    "freq = duration.value_counts()\n",
    "print('Frequence duration in TV Show in Amazon Titles')\n",
    "freq"
   ]
  },
  {
   "cell_type": "code",
   "execution_count": 27,
   "id": "c907c624",
   "metadata": {},
   "outputs": [
    {
     "name": "stdout",
     "output_type": "stream",
     "text": [
      "Frequence duration in TV Show in Netflix Titles\n"
     ]
    },
    {
     "data": {
      "text/plain": [
       "type     duration  \n",
       "TV Show  1 Season      1793\n",
       "         2 Seasons      425\n",
       "         3 Seasons      199\n",
       "         4 Seasons       95\n",
       "         5 Seasons       65\n",
       "         6 Seasons       33\n",
       "         7 Seasons       23\n",
       "         8 Seasons       17\n",
       "         9 Seasons        9\n",
       "         10 Seasons       7\n",
       "         13 Seasons       3\n",
       "         11 Seasons       2\n",
       "         12 Seasons       2\n",
       "         15 Seasons       2\n",
       "         17 Seasons       1\n",
       "dtype: int64"
      ]
     },
     "execution_count": 27,
     "metadata": {},
     "output_type": "execute_result"
    }
   ],
   "source": [
    "duration = netflix_titles.filter(items=selects_columns)\n",
    "duration = duration.loc[duration['type'] == 'TV Show']\n",
    "duration.isnull().sum()\n",
    "freq = duration.value_counts()\n",
    "print('Frequence duration in TV Show in Netflix Titles')\n",
    "freq"
   ]
  }
 ],
 "metadata": {
  "kernelspec": {
   "display_name": "Python 3 (ipykernel)",
   "language": "python",
   "name": "python3"
  },
  "language_info": {
   "codemirror_mode": {
    "name": "ipython",
    "version": 3
   },
   "file_extension": ".py",
   "mimetype": "text/x-python",
   "name": "python",
   "nbconvert_exporter": "python",
   "pygments_lexer": "ipython3",
   "version": "3.9.7"
  }
 },
 "nbformat": 4,
 "nbformat_minor": 5
}
