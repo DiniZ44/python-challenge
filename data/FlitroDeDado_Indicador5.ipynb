{
 "cells": [
  {
   "cell_type": "markdown",
   "id": "5e6805fa",
   "metadata": {},
   "source": [
    "### 5- Lista de todos os gêneros de filmes."
   ]
  },
  {
   "cell_type": "code",
   "execution_count": 3,
   "id": "4563baf6",
   "metadata": {},
   "outputs": [
    {
     "data": {
      "text/plain": [
       "All List Generes in Movies\n",
       "Drama                         3206\n",
       "International Movies          2752\n",
       "Dramas                        2427\n",
       "Comedy                        1821\n",
       "Comedies                      1674\n",
       "Action                        1502\n",
       "Suspense                      1381\n",
       "Documentaries                  869\n",
       "Action & Adventure             859\n",
       "Horror                         845\n",
       "Independent Movies             756\n",
       "Special Interest               707\n",
       "Documentary                    679\n",
       "Kids                           679\n",
       "Children & Family Movies       641\n",
       "Romantic Movies                616\n",
       "Romance                        592\n",
       "Thrillers                      577\n",
       "and Culture                    444\n",
       "Arts                           444\n",
       "Entertainment                  444\n",
       "Science Fiction                399\n",
       "Music & Musicals               375\n",
       "Horror Movies                  357\n",
       "Stand-Up Comedy                343\n",
       "International                  284\n",
       "Animation                      279\n",
       "Sci-Fi & Fantasy               243\n",
       "Adventure                      230\n",
       "Western                        224\n",
       "Sports Movies                  219\n",
       "Music Videos and Concerts      149\n",
       "Arthouse                       140\n",
       "Classic Movies                 116\n",
       "Sports                         106\n",
       "LGBTQ Movies                   102\n",
       "LGBTQ                           91\n",
       "Young Adult Audience            75\n",
       "Fitness                         72\n",
       "Cult Movies                     71\n",
       "Anime Features                  71\n",
       "Faith & Spirituality            65\n",
       "Movies                          57\n",
       "Faith and Spirituality          57\n",
       "Fantasy                         51\n",
       "Military and War                36\n",
       "Anime                           29\n",
       "Historical                      12\n",
       "Talk Show and Variety            1\n",
       "Unscripted                       1\n",
       "dtype: int64"
      ]
     },
     "execution_count": 3,
     "metadata": {},
     "output_type": "execute_result"
    }
   ],
   "source": [
    "import pandas as pd\n",
    "\n",
    "amazon_titles = pd.read_csv(\"amazon_prime_titles.csv\", sep = \",\")\n",
    "netflix_titles = pd.read_csv(\"netflix_titles.csv\", sep = \",\")\n",
    "\n",
    "all_titles = pd.merge(amazon_titles, netflix_titles, how = 'outer')\n",
    "all_titles.columns.values \n",
    "selects_columns = ['type','listed_in']\n",
    "listed = all_titles.filter(items=selects_columns)\n",
    "listed = listed.loc[listed['type'] == 'Movie']\n",
    "cut_listed = listed['listed_in'].str.split(', ', expand=True)\n",
    "cut_listed.isnull().sum()\n",
    "emp = cut_listed.stack(dropna=True)\n",
    "data = pd.DataFrame(emp)\n",
    "data = data.rename(columns={0:'All List Generes in Movies'})\n",
    "final_data = data.value_counts()\n",
    "final_data\n"
   ]
  },
  {
   "cell_type": "code",
   "execution_count": null,
   "id": "6c38172c",
   "metadata": {},
   "outputs": [],
   "source": []
  }
 ],
 "metadata": {
  "kernelspec": {
   "display_name": "Python 3 (ipykernel)",
   "language": "python",
   "name": "python3"
  },
  "language_info": {
   "codemirror_mode": {
    "name": "ipython",
    "version": 3
   },
   "file_extension": ".py",
   "mimetype": "text/x-python",
   "name": "python",
   "nbconvert_exporter": "python",
   "pygments_lexer": "ipython3",
   "version": "3.9.7"
  }
 },
 "nbformat": 4,
 "nbformat_minor": 5
}
