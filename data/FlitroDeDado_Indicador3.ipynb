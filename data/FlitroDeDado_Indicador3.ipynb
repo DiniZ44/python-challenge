{
 "cells": [
  {
   "cell_type": "markdown",
   "id": "be8137c3",
   "metadata": {},
   "source": [
    "### 3- Mês no qual há mais adições de filmes na plataforma Netflix;"
   ]
  },
  {
   "cell_type": "code",
   "execution_count": 5,
   "id": "49d93891",
   "metadata": {},
   "outputs": [
    {
     "data": {
      "text/plain": [
       "Month with most movie additions in Netflix\n",
       "July                                          819\n",
       "dtype: int64"
      ]
     },
     "execution_count": 5,
     "metadata": {},
     "output_type": "execute_result"
    }
   ],
   "source": [
    "import pandas as pd\n",
    "\n",
    "netflix_titles = pd.read_csv(\"netflix_titles.csv\", sep = \",\")\n",
    "\n",
    "netflix_titles.columns.values\n",
    "selects_columns = ['date_added']\n",
    "dates = netflix_titles.filter(items=selects_columns)\n",
    "cut_date = dates['date_added'].str.split(' ', expand=True)\n",
    "\n",
    "cc = cut_date.drop(columns=1)\n",
    "cc = cc.drop(columns=2)\n",
    "mes= cc.drop(columns=3)\n",
    "\n",
    "data = pd.DataFrame(mes)\n",
    "data = data.rename(columns={0:'Month with most movie additions in Netflix'})\n",
    "unique_mes = mes.drop_duplicates().sort_values(0, ascending=True)\n",
    "final_value = data.value_counts()\n",
    "final_value[:1]\n"
   ]
  },
  {
   "cell_type": "code",
   "execution_count": null,
   "id": "bf0c4e4c",
   "metadata": {},
   "outputs": [],
   "source": []
  }
 ],
 "metadata": {
  "kernelspec": {
   "display_name": "Python 3 (ipykernel)",
   "language": "python",
   "name": "python3"
  },
  "language_info": {
   "codemirror_mode": {
    "name": "ipython",
    "version": 3
   },
   "file_extension": ".py",
   "mimetype": "text/x-python",
   "name": "python",
   "nbconvert_exporter": "python",
   "pygments_lexer": "ipython3",
   "version": "3.9.7"
  }
 },
 "nbformat": 4,
 "nbformat_minor": 5
}
