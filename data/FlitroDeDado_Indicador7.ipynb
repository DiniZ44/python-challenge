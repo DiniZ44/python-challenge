{
 "cells": [
  {
   "cell_type": "markdown",
   "id": "5e6805fa",
   "metadata": {},
   "source": [
    "### 7- Frequência em relação a duração de \"Movies\" de todos os dados e comparativamente em relação as duas plataformas"
   ]
  },
  {
   "cell_type": "code",
   "execution_count": 10,
   "id": "0fd444af",
   "metadata": {},
   "outputs": [
    {
     "data": {
      "text/plain": [
       "type   duration\n",
       "Movie  90 min      375\n",
       "       91 min      364\n",
       "       92 min      332\n",
       "       94 min      323\n",
       "       93 min      308\n",
       "                  ... \n",
       "       228 min       1\n",
       "       224 min       1\n",
       "       214 min       1\n",
       "       212 min       1\n",
       "       203 min       1\n",
       "Length: 226, dtype: int64"
      ]
     },
     "execution_count": 10,
     "metadata": {},
     "output_type": "execute_result"
    }
   ],
   "source": [
    "import pandas as pd\n",
    "\n",
    "amazon_titles = pd.read_csv(\"amazon_prime_titles.csv\", sep = \",\")\n",
    "netflix_titles = pd.read_csv(\"netflix_titles.csv\", sep = \",\")\n",
    "\n",
    "all_titles = pd.merge(amazon_titles, netflix_titles, how = 'outer')\n",
    "all_titles.columns.values \n",
    "selects_columns = ['type', 'duration']\n",
    "duration = all_titles.filter(items=selects_columns)\n",
    "duration = duration.loc[duration['type'] == 'Movie']\n",
    "duration.isnull().sum()\n",
    "nw = duration.fillna(0)\n",
    "print('Frequence duration the Movies in All Titles')\n",
    "nw.value_counts()"
   ]
  },
  {
   "cell_type": "code",
   "execution_count": 12,
   "id": "abdc320b",
   "metadata": {},
   "outputs": [
    {
     "name": "stdout",
     "output_type": "stream",
     "text": [
      "Frequence duration the Movies in Amazon Titles\n"
     ]
    },
    {
     "data": {
      "text/plain": [
       "type   duration\n",
       "Movie  90 min      223\n",
       "       91 min      220\n",
       "       92 min      203\n",
       "       89 min      195\n",
       "       88 min      188\n",
       "                  ... \n",
       "       269 min       1\n",
       "       601 min       1\n",
       "       479 min       1\n",
       "       550 min       1\n",
       "       185 min       1\n",
       "Length: 202, dtype: int64"
      ]
     },
     "execution_count": 12,
     "metadata": {},
     "output_type": "execute_result"
    }
   ],
   "source": [
    "duration = amazon_titles.filter(items=selects_columns)\n",
    "duration = duration.loc[duration['type'] == 'Movie']\n",
    "duration.isnull().sum()\n",
    "nw = duration.fillna(0)\n",
    "print('Frequence duration the Movies in Amazon Titles')\n",
    "nw.value_counts()"
   ]
  },
  {
   "cell_type": "code",
   "execution_count": 13,
   "id": "c6d8548a",
   "metadata": {},
   "outputs": [
    {
     "name": "stdout",
     "output_type": "stream",
     "text": [
      "Frequence duration the Movies in Netflix Titles\n"
     ]
    },
    {
     "data": {
      "text/plain": [
       "type   duration\n",
       "Movie  90 min      152\n",
       "       94 min      146\n",
       "       93 min      146\n",
       "       97 min      146\n",
       "       91 min      144\n",
       "                  ... \n",
       "       203 min       1\n",
       "       201 min       1\n",
       "       200 min       1\n",
       "       194 min       1\n",
       "       196 min       1\n",
       "Length: 206, dtype: int64"
      ]
     },
     "execution_count": 13,
     "metadata": {},
     "output_type": "execute_result"
    }
   ],
   "source": [
    "duration = netflix_titles.filter(items=selects_columns)\n",
    "duration = duration.loc[duration['type'] == 'Movie']\n",
    "duration.isnull().sum()\n",
    "nw = duration.fillna(0)\n",
    "print('Frequence duration the Movies in Netflix Titles')\n",
    "nw.value_counts()"
   ]
  }
 ],
 "metadata": {
  "kernelspec": {
   "display_name": "Python 3 (ipykernel)",
   "language": "python",
   "name": "python3"
  },
  "language_info": {
   "codemirror_mode": {
    "name": "ipython",
    "version": 3
   },
   "file_extension": ".py",
   "mimetype": "text/x-python",
   "name": "python",
   "nbconvert_exporter": "python",
   "pygments_lexer": "ipython3",
   "version": "3.9.7"
  }
 },
 "nbformat": 4,
 "nbformat_minor": 5
}
